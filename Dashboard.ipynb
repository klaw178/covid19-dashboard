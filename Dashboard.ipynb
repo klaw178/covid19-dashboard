{
 "cells": [
  {
   "cell_type": "markdown",
   "metadata": {},
   "source": [
    "[DIY Covid-19 Dashboard Kit](https://github.com/fsmeraldi/diy-covid19dash) (C) Kent Law, 2021 ([t.law@se21.qmul.ac.uk](mailto:t.law@se21.qmul.ac.uk)). All rights reserved."
   ]
  },
  {
   "cell_type": "markdown",
   "metadata": {},
   "source": [
    "# DIY Covid-19 Dashboard"
   ]
  },
  {
   "cell_type": "markdown",
   "metadata": {},
   "source": [
    "This is a my DIY Covid Dashboard, which used a software development kit provided by Public Health England and some other popular python libraries, such is pandas, matplotlib and ipywidgets. The dashboard is being displayed by using [voila](https://voila.readthedocs.io/en/stable/index.html), a Python dashboarding tool that converts notebooks to standalone dashboards. In this panel, it will show the Covid-19 cases, their distribution among different age bands and genders and the vaccination, as an overview of the coronvirus in England."
   ]
  },
  {
   "cell_type": "code",
   "execution_count": 96,
   "metadata": {},
   "outputs": [],
   "source": [
    "from IPython.display import clear_output\n",
    "import ipywidgets as wdg\n",
    "import pandas as pd\n",
    "import numpy as np\n",
    "import matplotlib.pyplot as plt\n",
    "import json\n",
    "from uk_covid19 import Cov19API"
   ]
  },
  {
   "cell_type": "code",
   "execution_count": 97,
   "metadata": {},
   "outputs": [],
   "source": [
    "%matplotlib inline\n",
    "# make figures larger\n",
    "plt.rcParams['figure.dpi'] = 100"
   ]
  },
  {
   "cell_type": "code",
   "execution_count": 98,
   "metadata": {},
   "outputs": [],
   "source": [
    "# At first, I classify the data I collected from the API into two subclass: trends and distribution\n",
    "trends = ['case_trend_data', 'vaccination_trend_data']\n",
    "distribution = ['age_distribution_data']\n",
    "\n",
    "# Then, creating a general function to retrieve data from a 'canned' JSON file\n",
    "def get_canned_data(data_set):\n",
    "    with open(f\"{data_set}.json\") as INFILE:\n",
    "        data = json.load(INFILE)\n",
    "        dates = [grp['date'] for grp in data['data']]\n",
    "        dates.sort()\n",
    "        return [data, dates]\n",
    "\n",
    "# Using the function, I can create three sets of data: case_trend_data, vaccination_trend_data, age_distribution_data\n",
    "default_case_trend_data = get_canned_data(trends[0])\n",
    "default_vaccination_trend_data = get_canned_data(trends[1])\n",
    "default_age_distribution_data = get_canned_data(distribution[0])\n",
    "\n",
    "# This is a helper function to allow dates to be sorted easily\n",
    "def parse_date(dates_tring):\n",
    "    return pd.to_datetime(dates_tring, format = \"%Y-%m-%d\")\n",
    "\n",
    "# Now, I create a general function to create a trend data's dataframes\n",
    "def gen_trend_df(trend_data):\n",
    "    data = trend_data\n",
    "    start_date = parse_date(data[1][0])\n",
    "    end_date = parse_date(data[1][-1])\n",
    "    index = pd.date_range(start_date, end_date, freq='D')\n",
    "    columns = [column for column in data[0]['data'][0].keys()]\n",
    "    columns.pop(0)\n",
    "    df = pd.DataFrame(index = index, columns = columns)\n",
    "    for grp in data[0]['data']:\n",
    "        date = parse_date(grp['date'])\n",
    "        for column in columns:\n",
    "            if pd.isna(df.loc[date, column]):\n",
    "                value= float(grp[column]) if grp[column]!= None else 0.0\n",
    "                df.loc[date, column] = value\n",
    "    df.fillna(0.0, inplace=True)\n",
    "    return df\n",
    "\n",
    "# Distribution data has a separate function which wraps all data handling and dataframe creation, due to its uniqueness\n",
    "def gen_age_distribution_df(distribution_data):\n",
    "    latest_distribution_data = distribution_data['data'][0]\n",
    "    males = latest_distribution_data['males']\n",
    "    females = latest_distribution_data['females']\n",
    "    age_ranges = [entry['age'] for entry in males]\n",
    "    def min_age(age_range):\n",
    "        age_range = age_range.replace('+','')\n",
    "        start = age_range.split('_')[0]\n",
    "        return int(start)\n",
    "    age_ranges.sort(key=min_age)\n",
    "    df = pd.DataFrame(index = age_ranges, columns = ['males', 'females', 'total'])\n",
    "    for entry in males:\n",
    "        age_band = entry['age']\n",
    "        df.loc[age_band, 'males'] = entry['value']\n",
    "    for entry in females:\n",
    "        age_band = entry['age']\n",
    "        df.loc[age_band, 'females'] = entry['value']\n",
    "    df['total'] = df['males'] + df['females']\n",
    "    return df\n",
    "\n",
    "# Dataframes are created, and they should be global variable as they would be refreshed in the future\n",
    "case_trend_df = gen_trend_df(default_case_trend_data)\n",
    "vaccination_trend_df = gen_trend_df(default_vaccination_trend_data)\n",
    "age_distribution_df = gen_age_distribution_df(default_age_distribution_data[0])"
   ]
  },
  {
   "cell_type": "markdown",
   "metadata": {},
   "source": [
    "This is a work done at 1st of Dec, 2021. By clicking the below button, it accesses the latest statistics immediately and refresh the graphs."
   ]
  },
  {
   "cell_type": "code",
   "execution_count": 99,
   "metadata": {},
   "outputs": [],
   "source": [
    "# I'm a bit lazy, therefore the refresh button will update all the graphs\n",
    "# Therefore, I created will use the below function to update dataframes all together\n",
    "def access_COV19API():\n",
    "    # Define the structures of the data sets first\n",
    "    filters = [\n",
    "        'areaType=nation',\n",
    "        'areaName=England'\n",
    "        ]\n",
    "    case_trend = {\n",
    "        \"date\": \"date\",\n",
    "        \"daily_cases\": \"newCasesByPublishDate\",\n",
    "        \"daily_admissions\": \"newAdmissions\",\n",
    "        \"daily_deaths\": \"newDeaths28DaysByPublishDate\"  \n",
    "        }\n",
    "    age_distribution = {\n",
    "        \"date\": \"date\",\n",
    "        \"males\": \"maleCases\",\n",
    "        \"females\": \"femaleCases\"  \n",
    "        }\n",
    "    vaccination_trend = {\n",
    "        \"date\": \"date\",\n",
    "        \"first_dose\": \"newPeopleVaccinatedFirstDoseByPublishDate\",\n",
    "        \"second_dose\": \"newPeopleVaccinatedSecondDoseByPublishDate\",\n",
    "        \"booster_dose\": \"newPeopleVaccinatedThirdInjectionByPublishDate\"\n",
    "        }\n",
    "    structures = [case_trend, age_distribution, vaccination_trend]\n",
    "    # Create APIs\n",
    "    case_trend_api = Cov19API(filters=filters, structure=structures[0])\n",
    "    age_distribution_api = Cov19API(filters=filters, structure=structures[1])\n",
    "    vaccination_trend_api = Cov19API(filters=filters, structure=structures[2])\n",
    "    # Create a function to manipulate the data into a suitable format for dataframe creation\n",
    "    def pack_fresh_data(data):\n",
    "        dates = [grp['date'] for grp in data['data']]\n",
    "        dates.sort()\n",
    "        return [data, dates]\n",
    "    # Create data sets through calling the APIs and package them at the same time\n",
    "    case_trend_data = pack_fresh_data(case_trend_api.get_json())\n",
    "    age_distribution_data = pack_fresh_data(age_distribution_api.get_json())\n",
    "    vaccination_trend_data = pack_fresh_data(vaccination_trend_api.get_json())\n",
    "    # Output all the data sets\n",
    "    return [case_trend_data, vaccination_trend_data, age_distribution_data]\n"
   ]
  },
  {
   "cell_type": "code",
   "execution_count": 100,
   "metadata": {},
   "outputs": [
    {
     "data": {
      "application/vnd.jupyter.widget-view+json": {
       "model_id": "482db76890ba4348a39f4ad8d4857196",
       "version_major": 2,
       "version_minor": 0
      },
      "text/plain": [
       "Button(button_style='danger', description='REFRESH', icon='download', style=ButtonStyle(), tooltip='Click to r…"
      ]
     },
     "metadata": {},
     "output_type": "display_data"
    }
   ],
   "source": [
    "# This is a button callback which executes when the user clicks the button\n",
    "def api_button_callback(button):\n",
    "    try:\n",
    "        # Get fresh data from the API\n",
    "        covid_data = access_COV19API()\n",
    "        # Declare global variables for referencing dataframes outside the current scope\n",
    "        global case_trend_df\n",
    "        global vaccination_trend_df\n",
    "        global age_distribution_df\n",
    "        # Overwriting the dataframes with new statistics\n",
    "        case_trend_df = gen_trend_df(covid_data[0])\n",
    "        vaccination_trend_df = gen_trend_df(covid_data[1])\n",
    "        age_distribution_df = gen_age_distribution_df(covid_data[2][0])\n",
    "        # Re-draw graphs\n",
    "        redraw_graph()\n",
    "        # If the update is successful, button icon should reflect and be disabled as it is the latest already\n",
    "        refresh_button.icon = 'check'\n",
    "        refresh_button.description = 'UPDATED'\n",
    "        refresh_button.disabled = True \n",
    "    except:\n",
    "        pass\n",
    "    \n",
    "\n",
    "# This is the button \n",
    "refresh_button = wdg.Button(\n",
    "    description = 'UPDATE',\n",
    "    disabled = False,\n",
    "    button_style = 'danger',\n",
    "    tooltip = \"Click to refresh data\",\n",
    "    icon = 'download'\n",
    ")\n",
    "\n",
    "def redraw_graph():\n",
    "    # Declare global variable for referencing outputs outside the current scope\n",
    "    global case_trend_output\n",
    "    global vaccination_trend_output\n",
    "    global age_distribution_output\n",
    "    global case_cols\n",
    "    global vaccination_cols\n",
    "    global age_cols\n",
    "    # I try to clear the output first\n",
    "    # .clear_put() method accepts argument \"wait\" to delay the clearance until the widget to have new thing to display\n",
    "    # It enables smoother transition\n",
    "    case_trend_output.clear_output(wait = True)\n",
    "    vaccination_trend_output.clear_output(wait = True)\n",
    "    age_distribution_output.clear_output(wait = True)\n",
    "    # Then re-create a new output (tried but failed)\n",
    "    # case_trend_output = wdg.interactive_output(\n",
    "    #     case_graph,\n",
    "    #     {'graph_cols': case_cols, 'graph_scale': case_scale}\n",
    "    # )\n",
    "    # vaccination_trend_output = wdg.interactive_output(\n",
    "    #     vaccination_graph,\n",
    "    #     {'graph_cols': vaccination_cols, 'graph_scale': vaccination_scale}\n",
    "    # )\n",
    "    # age_distribution_output = wdg.interactive_output(\n",
    "    #     age_distribution_graph,\n",
    "    #     {'graph_cols': age_cols}\n",
    "    # )\n",
    "    # Hard re-draw by tricking the widget\n",
    "    case_cols.value = ['daily_cases', 'daily_admissions']\n",
    "    case_cols.value = ['daily_cases', 'daily_admissions', 'daily_deaths']\n",
    "    vaccination_cols.value = ['first_dose', 'second_dose']\n",
    "    vaccination_cols.value = ['first_dose', 'second_dose', 'booster_dose']\n",
    "    age_cols.value = ['males', 'females']\n",
    "    age_cols.value = ['males', 'females', 'total']\n",
    "\n",
    "\n",
    "refresh_button.on_click(api_button_callback)\n",
    "display(refresh_button)\n",
    "\n"
   ]
  },
  {
   "cell_type": "markdown",
   "metadata": {},
   "source": [
    "## Graphs and Analysis\n",
    "(The right hand side is a interactive control panel, user can switch between statistics and logarithms.)"
   ]
  },
  {
   "cell_type": "markdown",
   "metadata": {},
   "source": [
    "The first graph captured the **daily cases, daily admissions and daily deaths** of COVID-19 in England. It shows that the last peak was from 2020 December to 2021 February and the pandemic is gtting more seriously recently. Luckily, the admissions and the deaths numbers are started to be less co-related with the case numbers than the previous peak. It probably reveals the effectiveness of vaccination."
   ]
  },
  {
   "cell_type": "code",
   "execution_count": null,
   "metadata": {},
   "outputs": [],
   "source": [
    "# Creating graph's output options\n",
    "case_cols = wdg.SelectMultiple(\n",
    "    options = ['daily_cases', 'daily_admissions', 'daily_deaths'],\n",
    "    value = ['daily_cases', 'daily_admissions', 'daily_deaths'],\n",
    "    rows = 3,\n",
    "    description = 'Stats:',\n",
    "    disabled = False\n",
    ")\n",
    "# Creating graph's logarithm options\n",
    "case_scale = wdg.RadioButtons(\n",
    "    options = ['linear', 'log'],\n",
    "    description = 'Scale:',\n",
    "    disabled = False\n",
    ")\n",
    "# Creating graph\n",
    "def case_graph(graph_cols, graph_scale):\n",
    "    if graph_scale == 'linear':\n",
    "        log_scale = False\n",
    "    else:\n",
    "        log_scale = True\n",
    "    n_cols = len(graph_cols)\n",
    "    if n_cols > 0:\n",
    "        case_trend_df[list(graph_cols)].plot(logy = log_scale)\n",
    "        plt.show()\n",
    "    else:\n",
    "        print(\"Click to select data for graph\")\n",
    "        print(\"(CTRL-Click to select more than one category)\")\n",
    "# Creating graph's output in the form of ipywidget\n",
    "case_trend_output = wdg.interactive_output(\n",
    "    case_graph,\n",
    "    {'graph_cols': case_cols, 'graph_scale': case_scale}\n",
    ")\n",
    "case_controls = wdg.VBox([case_cols, case_scale])\n",
    "# Cleaner format\n",
    "case_form = wdg.HBox([case_trend_output, case_controls])\n",
    "display(case_form)"
   ]
  },
  {
   "cell_type": "markdown",
   "metadata": {},
   "source": [
    "The second graph captured the **daily number of vaccination: first dose, second dose and booster** during COVID-19 period in England. It shows that the vast majority of population has been vaccinated and a significant number of people are taking a boost or the third jab."
   ]
  },
  {
   "cell_type": "code",
   "execution_count": null,
   "metadata": {},
   "outputs": [],
   "source": [
    "# Codes are in the same order as the above\n",
    "vaccination_cols = wdg.SelectMultiple(\n",
    "    options = ['first_dose', 'second_dose', 'booster_dose'],\n",
    "    value = ['first_dose', 'second_dose', 'booster_dose'],\n",
    "    rows = 3,\n",
    "    description = 'Stats:',\n",
    "    disabled = False\n",
    ")\n",
    "vaccination_scale = wdg.RadioButtons(\n",
    "    options = ['linear', 'log'],\n",
    "    description = 'Scale:',\n",
    "    disabled = False\n",
    ")\n",
    "def vaccination_graph(graph_cols, graph_scale):\n",
    "    if graph_scale == 'linear':\n",
    "        log_scale = False\n",
    "    else:\n",
    "        log_scale = True\n",
    "    n_cols = len(graph_cols)\n",
    "    if n_cols > 0:\n",
    "        vaccination_trend_df[list(graph_cols)].plot(logy = log_scale)\n",
    "        plt.show()\n",
    "    else:\n",
    "        print(\"Click to select data for graph\")\n",
    "        print(\"(CTRL-Click to select more than one category)\")\n",
    "vaccination_trend_output = wdg.interactive_output(\n",
    "    vaccination_graph,\n",
    "    {'graph_cols': vaccination_cols, 'graph_scale': vaccination_scale}\n",
    ")\n",
    "vaccination_controls = wdg.VBox([vaccination_cols, vaccination_scale])\n",
    "vaccination_form = wdg.HBox([vaccination_trend_output, vaccination_controls])\n",
    "display(vaccination_form)"
   ]
  },
  {
   "cell_type": "markdown",
   "metadata": {},
   "source": [
    "The third graph captured the **age distribution of cases divided by age bands** during COVID-19 period in England. Overrall, females are more likely to be infected than males and the coronavirus is extensively spread in the groups of children, teenagers and adults, instead of targeting a specific group. The reason behind could be the highly contagious property of the virus and hence it is common among the groups which have more outdoor and physical activities."
   ]
  },
  {
   "cell_type": "code",
   "execution_count": null,
   "metadata": {},
   "outputs": [],
   "source": [
    "# Codes are in the same order as the above\n",
    "age_cols = wdg.SelectMultiple(\n",
    "    options = ['males', 'females', 'total'],\n",
    "    value = ['males', 'females', 'total'],\n",
    "    rows = 3,\n",
    "    description = 'Gender',\n",
    "    disabled = False\n",
    ")\n",
    "def age_distribution_graph(graph_cols):\n",
    "    n_cols = len(graph_cols)\n",
    "    if n_cols > 0:\n",
    "        age_distribution_df.plot(kind = 'bar', y = list(graph_cols))\n",
    "        plt.show()\n",
    "    else:\n",
    "        print(\"Click to select data for graph\")\n",
    "        print(\"(CTRL-Click to select more than one category)\")\n",
    "age_distribution_output = wdg.interactive_output(\n",
    "    age_distribution_graph,\n",
    "    {'graph_cols': age_cols}\n",
    ")\n",
    "age_controls = wdg.VBox([age_cols])\n",
    "age_form = wdg.HBox([age_distribution_output, age_controls])\n",
    "display(age_form)"
   ]
  },
  {
   "cell_type": "markdown",
   "metadata": {},
   "source": [
    "## Thank you!\n",
    "\n",
    "Thanks for viewing my mini dashboard. Wish the pandemic will be past soon and life returns to normal. Cheers!"
   ]
  },
  {
   "cell_type": "markdown",
   "metadata": {},
   "source": [
    "**Author and Copyright Notice**:\n",
    "Designed and developed by <u>Kent Law</u> \n",
    "\n",
    "**Acknowledgement**: *Based on UK Government [data](https://coronavirus.data.gov.uk/) published by [Public Health England](https://www.gov.uk/government/organisations/public-health-england).*"
   ]
  }
 ],
 "metadata": {
  "interpreter": {
   "hash": "3d597f4c481aa0f25dceb95d2a0067e73c0966dcbd003d741d821a7208527ecf"
  },
  "kernelspec": {
   "display_name": "Python 3.9.4 64-bit ('base': conda)",
   "name": "python3"
  },
  "language_info": {
   "codemirror_mode": {
    "name": "ipython",
    "version": 3
   },
   "file_extension": ".py",
   "mimetype": "text/x-python",
   "name": "python",
   "nbconvert_exporter": "python",
   "pygments_lexer": "ipython3",
   "version": "3.9.4"
  }
 },
 "nbformat": 4,
 "nbformat_minor": 4
}
